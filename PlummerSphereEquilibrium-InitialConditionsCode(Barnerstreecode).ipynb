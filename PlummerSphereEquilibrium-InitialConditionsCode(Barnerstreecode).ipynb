{
 "cells": [
  {
   "cell_type": "code",
   "execution_count": 338,
   "metadata": {},
   "outputs": [],
   "source": [
    "### Plummer's Sphere Equilibrium - Initial Conditions code for 'treecode' ### "
   ]
  },
  {
   "cell_type": "code",
   "execution_count": 339,
   "metadata": {},
   "outputs": [],
   "source": [
    "###################################################################################################################"
   ]
  },
  {
   "cell_type": "code",
   "execution_count": 340,
   "metadata": {},
   "outputs": [],
   "source": [
    "## Section 1 - Creation of the initial condition file ## "
   ]
  },
  {
   "cell_type": "code",
   "execution_count": 1,
   "metadata": {},
   "outputs": [],
   "source": [
    "import math\n",
    "import numpy as np\n",
    "import matplotlib.pyplot as plt\n",
    "%matplotlib inline\n",
    "\n",
    "## Definition of the parameters of the system (in internal units)\n",
    "Nparticles = 1000\n",
    "Ndimensions = 3\n",
    "time = 0   # initial time simulation\n",
    "r_scale = 1 # scale radius of the Plummer's sphere \n",
    "M = 10    # total mass of the system\n",
    "m = M/Nparticles # mass of each particle (equal mass particles)\n",
    "\n",
    "## distribution function (not normalized)\n",
    "def dist_func(q):\n",
    "    return (1-q**2)**(7/2)*q**2\n",
    "\n",
    "q_max = (2)**(1/2)/3  # abscissa where the distribution 'dist_func' has a maximum\n",
    "f_max = dist_func(q_max) \n",
    "\n",
    "## Positions setting function\n",
    "def positions(b):  \n",
    "    # position of the particle in spherical coordinates\n",
    "    k = np.random.random() # generation of a random number uniformly distributed in [0,1) \n",
    "    R = b*k**(1/3)/(1-k**(2/3))**(1/2)\n",
    "    k = np.random.random()\n",
    "    t = math.acos(1-(2*k))\n",
    "    k = np.random.random()\n",
    "    f = 2*(math.pi)*k \n",
    "    # position of the particle in cartesian coordinates\n",
    "    x = R*(math.sin(t))*(math.cos(f))\n",
    "    y = R*(math.sin(t))*(math.sin(f))\n",
    "    z = R*(math.cos(t))\n",
    "    return x,y,z,R,t,f\n",
    "\n",
    "## Velocity setting function\n",
    "def velocities(a,b):      \n",
    "    rel_pot = M/(a**2+b**2)**(1/2) # relative potential of the particle\n",
    "    v_max = (2*rel_pot)**(1/2)\n",
    "    leave = 'False' # used to exit the 'while' cycle\n",
    "    while leave=='False':\n",
    "        q = np.random.random() \n",
    "        q1 = np.random.random()*f_max   \n",
    "        if q1<=dist_func(q):\n",
    "            vmod = q*v_max # modulo of the velocity\n",
    "            # spherical distribution in the velocities: theta and phi distributed in such a way\n",
    "            k = np.random.random()\n",
    "            t = math.acos(1-(2*k))\n",
    "            k = np.random.random()\n",
    "            f = 2*(math.pi)*k \n",
    "            # velocity of the particle in cartesian coordinates\n",
    "            vx = vmod*(math.sin(t))*(math.cos(f))\n",
    "            vy = vmod*(math.sin(t))*(math.sin(f))\n",
    "            vz = vmod*(math.cos(t))\n",
    "            leave = 'True'\n",
    "    return vx,vy,vz,q\n",
    "\n",
    "## Creation and filling of the position and velocity arrays\n",
    "x = np.empty(Nparticles)\n",
    "y = np.empty(Nparticles)\n",
    "z = np.empty(Nparticles)\n",
    "vx = np.empty(Nparticles)\n",
    "vy = np.empty(Nparticles)\n",
    "vz = np.empty(Nparticles)\n",
    "\n",
    "## Radius, theta, phi and q arrays are used in the next section to check if the initial conditions are correct\n",
    "radius = np.empty(Nparticles)  \n",
    "theta = np.empty(Nparticles)\n",
    "phi = np.empty(Nparticles)\n",
    "q = np.empty(Nparticles) \n",
    "\n",
    "for i in range(Nparticles):\n",
    "    x[i],y[i],z[i],radius[i],theta[i],phi[i] = positions(r_scale)\n",
    "    vx[i],vy[i],vz[i],q[i] = velocities(radius[i],r_scale)"
   ]
  },
  {
   "cell_type": "code",
   "execution_count": 2,
   "metadata": {},
   "outputs": [],
   "source": [
    "## Saving the initial conditions in 'initial_conditions_file.txt' that then will be runned by the c++ code\n",
    "with open('initial_conditions_file.txt','w') as file:\n",
    "    file.write(\"{}\\n{}\\n{}\\n\".format(Nparticles,Ndimensions,time))\n",
    "    for i in range(Nparticles):\n",
    "        file.write(\"{}\\n\".format(m))\n",
    "    for i in range(Nparticles):\n",
    "        file.write(\"{:25.15e}{:25.15e}{:25.15e}\\n\".format(x[i],y[i],z[i]))\n",
    "    for i in range(Nparticles):\n",
    "        file.write(\"{:25.15e}{:25.15e}{:25.15e}\\n\".format(vx[i],vy[i],vz[i]))  \n",
    "## Saving some system's parameters used during the analysis section\n",
    "with open('system_properties.txt','w') as file:\n",
    "    file.write(\"{}\\n{}\\n{}\\n\".format(Nparticles,M,r_scale))"
   ]
  },
  {
   "cell_type": "code",
   "execution_count": 343,
   "metadata": {},
   "outputs": [],
   "source": [
    "###################################################################################################################"
   ]
  },
  {
   "cell_type": "code",
   "execution_count": 344,
   "metadata": {},
   "outputs": [],
   "source": [
    "## Section 2 - Check of the Initial Conditions ##"
   ]
  },
  {
   "cell_type": "code",
   "execution_count": 345,
   "metadata": {},
   "outputs": [],
   "source": [
    "# For more details about the statistics and what is done here, see the similar section in the Analysis Code.\n",
    "# Before evolving the system, it's recommended to check the initial conditions: this can done directly in the \n",
    "# analysis code (choosing the variable 'snapshot_to_check = 0'); however, for computational costs, we recommend \n",
    "# to do it here (indeed here we have already the R, theta, phi and q arrays; in the analysis code they have to be\n",
    "# recomputed)"
   ]
  },
  {
   "cell_type": "code",
   "execution_count": 346,
   "metadata": {},
   "outputs": [],
   "source": [
    "from scipy.stats import chisquare"
   ]
  },
  {
   "cell_type": "code",
   "execution_count": 347,
   "metadata": {},
   "outputs": [],
   "source": [
    "## Radius Distribution"
   ]
  },
  {
   "cell_type": "code",
   "execution_count": 348,
   "metadata": {},
   "outputs": [],
   "source": [
    "## pdf and cdf of the radial positions \n",
    "def pdf_r(r,b):\n",
    "    return (3/b**3)*(r**2)*(1+(r/b)**2)**(-5/2) \n",
    "def cdf_r(b,r):\n",
    "    return b**(-3)*r**3/(1+(r/b)**2)**(3/2)"
   ]
  },
  {
   "cell_type": "code",
   "execution_count": 349,
   "metadata": {},
   "outputs": [
    {
     "name": "stdout",
     "output_type": "stream",
     "text": [
      "pvalue: 0.040273054110285374, test non superato\n"
     ]
    }
   ],
   "source": [
    "# Chisquare Section #\n",
    "empirical,edges = np.histogram(radius,bins='auto')\n",
    "counts = np.copy(empirical) # used in the histogram section\n",
    "theorical = []\n",
    "for i_bin in range(len(empirical)):\n",
    "    if empirical[i_bin]>9:\n",
    "        prob = cdf_r(r_scale,edges[i_bin+1]) - cdf_r(r_scale,edges[i_bin])\n",
    "        theorical.append(prob*Nparticles)        \n",
    "empirical = empirical[empirical>9] \n",
    "\n",
    "sta, pvalue = chisquare(empirical,theorical)\n",
    "if pvalue>=0.05: print('pvalue: {}, test superato'.format(pvalue))\n",
    "else: print('pvalue: {}, test non superato'.format(pvalue))"
   ]
  },
  {
   "cell_type": "code",
   "execution_count": 350,
   "metadata": {},
   "outputs": [
    {
     "data": {
      "image/png": "[encoded data removed]",
      "text/plain": [
       "<Figure size 432x288 with 1 Axes>"
      ]
     },
     "metadata": {
      "needs_background": "light"
     },
     "output_type": "display_data"
    }
   ],
   "source": [
    "# Histogram Section #\n",
    "\n",
    "# Generation of the normalized histogram and of the error bars\n",
    "area = sum(np.diff(edges)*counts)\n",
    "error = np.sqrt(counts) # Poissonian errors\n",
    "bincenters = 0.5*(edges[1:]+edges[:-1])\n",
    "\n",
    "normalized_counts_r, bin_edges_r, hist_r = plt.hist(radius,bins='auto',range=None,density=True,color='c',label='Empirical')\n",
    "                                    # the bins selection is made through the 'auto' mode: maximum number of\n",
    "                                    # bins between the 'Freedman–Diaconis rule' or the 'Sturge’s Rule' computation\n",
    "\n",
    "error = np.divide(error, area) # the error bar must be rescaled since we normalized the histogram \n",
    "plt.errorbar(bincenters,normalized_counts_r,yerr=error,fmt='none',label='error',color='k')\n",
    "\n",
    "## generation of the arrays containing some pdf's points\n",
    "left_range = 0\n",
    "right_range = 6\n",
    "radius_pdf = np.empty(1000)\n",
    "ascissa = np.linspace(left_range,right_range,1000)     \n",
    "radius_pdf = pdf_r(ascissa,r_scale) \n",
    "\n",
    "plt.plot(ascissa,radius_pdf,color='r',label='pdf(r)')\n",
    "plt.xlim(left_range,right_range)\n",
    "plt.xlabel('R',fontsize=12)\n",
    "plt.ylabel('pdf(R)',fontsize=12)\n",
    "plt.title('R Distr - t=0, M={}, r_scale={}, n_part={:3.1e} (pvalue={:3.3})'.format(M,r_scale,Nparticles,pvalue))\n",
    "plt.legend()\n",
    "plt.tight_layout()\n",
    "plt.savefig('R_histo_1000.jpg') \n",
    "# N.B. if you change the scale radius or if you want to see the whole histogram, you need to do a manual rescale"
   ]
  },
  {
   "cell_type": "code",
   "execution_count": 351,
   "metadata": {},
   "outputs": [],
   "source": [
    "## Phi Distribution"
   ]
  },
  {
   "cell_type": "code",
   "execution_count": 352,
   "metadata": {},
   "outputs": [],
   "source": [
    "## pdf and cdf of the phi angle\n",
    "def pdf_p():\n",
    "    return (2*math.pi)**(-1)\n",
    "def cdf_p(p):\n",
    "    return p*(2*math.pi)**(-1)"
   ]
  },
  {
   "cell_type": "code",
   "execution_count": 353,
   "metadata": {},
   "outputs": [
    {
     "name": "stdout",
     "output_type": "stream",
     "text": [
      "pvalue: 0.02332020626809626, test non superato\n"
     ]
    }
   ],
   "source": [
    "# Chisquare Section #\n",
    "empirical,edges = np.histogram(phi,bins='auto')\n",
    "counts = np.copy(empirical) # used in the Histogram Section\n",
    "theorical = []\n",
    "for i_bin in range(len(empirical)):\n",
    "    if empirical[i_bin]>9:\n",
    "        prob = cdf_p(edges[i_bin+1]) - cdf_p(edges[i_bin])\n",
    "        theorical.append(prob*Nparticles)        \n",
    "empirical = empirical[empirical>9] \n",
    "\n",
    "sta, pvalue = chisquare(empirical,theorical)\n",
    "if pvalue>=0.05: print('pvalue: {}, test superato'.format(pvalue))\n",
    "else: print('pvalue: {}, test non superato'.format(pvalue))"
   ]
  },
  {
   "cell_type": "code",
   "execution_count": 354,
   "metadata": {},
   "outputs": [
    {
     "data": {
      "image/png": "[encoded data removed]",
      "text/plain": [
       "<Figure size 432x288 with 1 Axes>"
      ]
     },
     "metadata": {
      "needs_background": "light"
     },
     "output_type": "display_data"
    }
   ],
   "source": [
    "# Histogram Section #\n",
    "\n",
    "# Generation of the normalized histogram and of the error bars\n",
    "area = sum(np.diff(edges)*counts)\n",
    "error = np.sqrt(counts) # Poissonian errors\n",
    "bincenters = 0.5*(edges[1:]+edges[:-1])\n",
    "\n",
    "normalized_counts_p, Bin_edges_p, hist_p = plt.hist(phi,bins='auto',range=None,density=True,color='c',edgecolor='black',label='Empirical')\n",
    "error = error/area # the error bar must be rescaled since we normalized the histogram \n",
    "plt.errorbar(bincenters,normalized_counts_p,yerr=error,fmt='none',label='error',color='k')\n",
    "\n",
    "## generation of the arrays containing some pdf's points\n",
    "phi_pdf = np.empty(10)\n",
    "ascissa = np.linspace(0,2*math.pi,10)\n",
    "phi_pdf = np.ones(10)*pdf_p()        \n",
    "        \n",
    "plt.plot(ascissa,phi_pdf,color='r',label='pdf(phi)')\n",
    "plt.ylim(0,0.3)\n",
    "plt.xlabel('phi',fontsize=12)\n",
    "plt.ylabel('pdf(phi)',fontsize=12)\n",
    "plt.title('Phi Distribution - t=0, n_part={:3.1e} (pvalue={:3.3})'.format(Nparticles,pvalue))\n",
    "plt.legend()\n",
    "plt.tight_layout()\n",
    "plt.savefig('Phi_histo_1000.jpg') "
   ]
  },
  {
   "cell_type": "code",
   "execution_count": 355,
   "metadata": {},
   "outputs": [],
   "source": [
    "## Theta Distribution"
   ]
  },
  {
   "cell_type": "code",
   "execution_count": 356,
   "metadata": {},
   "outputs": [],
   "source": [
    "## pdf and cdf of the phi angle\n",
    "def pdf_t(t):\n",
    "    return 0.5*np.sin(t)\n",
    "def cdf_t(t):\n",
    "    return 0.5*(1-np.cos(t))"
   ]
  },
  {
   "cell_type": "code",
   "execution_count": 357,
   "metadata": {},
   "outputs": [
    {
     "name": "stdout",
     "output_type": "stream",
     "text": [
      "pvalue: 0.54800645766768, test superato\n"
     ]
    }
   ],
   "source": [
    "# Chisquare Section #\n",
    "empirical,edges = np.histogram(theta,bins='auto')\n",
    "counts = np.copy(empirical) # used in the Histogram Section\n",
    "theorical = []\n",
    "for i_bin in range(len(empirical)):\n",
    "    if empirical[i_bin]>9:\n",
    "        prob = cdf_t(edges[i_bin+1]) - cdf_t(edges[i_bin])\n",
    "        theorical.append(prob*Nparticles)        \n",
    "empirical = empirical[empirical>9] \n",
    "\n",
    "sta, pvalue = chisquare(empirical,theorical)\n",
    "if pvalue>=0.05: print('pvalue: {}, test superato'.format(pvalue))\n",
    "else: print('pvalue: {}, test non superato'.format(pvalue))"
   ]
  },
  {
   "cell_type": "code",
   "execution_count": 358,
   "metadata": {},
   "outputs": [
    {
     "data": {
      "image/png": "[encoded data removed]",
      "text/plain": [
       "<Figure size 432x288 with 1 Axes>"
      ]
     },
     "metadata": {
      "needs_background": "light"
     },
     "output_type": "display_data"
    }
   ],
   "source": [
    "# Histogram Section #\n",
    "\n",
    "# Generation of the normalized histogram and of the error bars\n",
    "area = sum(np.diff(edges)*counts)\n",
    "error = np.sqrt(counts) # Poissonian errors\n",
    "bincenters = 0.5*(edges[1:]+edges[:-1])\n",
    "\n",
    "normalized_counts_t, Bin_edges_t, hist_t = plt.hist(theta,bins='auto',range=None,density=True,color='c',edgecolor='black',label='Empirical')\n",
    "error = error/area # the error bar must be rescaled since we normalized the histogram \n",
    "plt.errorbar(bincenters,normalized_counts_t,yerr=error,fmt='none',label='error',color='k')\n",
    "\n",
    "## generation of the arrays containing some pdf's points\n",
    "theta_pdf = np.empty(1000)\n",
    "ascissa = np.linspace(0,math.pi,1000)\n",
    "theta_pdf = pdf_t(ascissa)        \n",
    "    \n",
    "plt.plot(ascissa,theta_pdf,color='r',label='pdf(theta)')\n",
    "plt.xlabel('theta',fontsize=12)\n",
    "plt.ylabel('pdf(theta)',fontsize=12)\n",
    "plt.title('Theta Distribution - t=0, n_part={:3.1e} (pvalue={:3.3})'.format(Nparticles,pvalue))\n",
    "plt.legend()\n",
    "plt.tight_layout()\n",
    "plt.savefig('Theta_histo_1000.jpg') "
   ]
  },
  {
   "cell_type": "code",
   "execution_count": 359,
   "metadata": {},
   "outputs": [],
   "source": [
    "## Density Distribution"
   ]
  },
  {
   "cell_type": "code",
   "execution_count": 360,
   "metadata": {},
   "outputs": [],
   "source": [
    "# density function\n",
    "def rho(r,b,M):\n",
    "    return M/(4/3*math.pi*b**3)/(1+(r/b)**2)**(5/2)"
   ]
  },
  {
   "cell_type": "code",
   "execution_count": 361,
   "metadata": {},
   "outputs": [
    {
     "data": {
      "image/png": "[encoded data removed]",
      "text/plain": [
       "<Figure size 432x288 with 1 Axes>"
      ]
     },
     "metadata": {
      "needs_background": "light"
     },
     "output_type": "display_data"
    }
   ],
   "source": [
    "## generation of the theorical density\n",
    "density = np.empty(1000)\n",
    "ascissa = np.linspace(0,10,1000)\n",
    "density = rho(ascissa,r_scale,M)  \n",
    "plt.plot(ascissa,density,label='theorical')\n",
    "\n",
    "## computation of the empirical density\n",
    "counts, bin_edges = np.histogram(radius, bins=200) # if you are not satisfied, choose 'bins' manually\n",
    "system_density = []\n",
    "for i in range(len(counts)):\n",
    "    system_density.append(counts[i]*m/(4/3*math.pi*(bin_edges[i+1]**3-bin_edges[i]**3)))\n",
    "\n",
    "plt.plot(bin_edges[1::],system_density,'r.',label='empirical')\n",
    "left_range = 0\n",
    "right_range = 6\n",
    "plt.xlim(left_range,right_range)\n",
    "plt.xlabel('R',fontsize=12)\n",
    "plt.ylabel('density',fontsize=12)\n",
    "plt.title('Density Function - t=0, M={}, r_scale={}, n_part={:3.1e}'.format(M,r_scale,Nparticles))\n",
    "plt.legend()\n",
    "plt.grid()\n",
    "plt.tight_layout()\n",
    "plt.savefig('density_function_1000.jpg') \n",
    "## N.B. in order to compute the error associated to the empirical density, one should use the error propagation\n",
    "## In this case we decided to evaluate the accuracy qualitatively"
   ]
  },
  {
   "cell_type": "code",
   "execution_count": 362,
   "metadata": {},
   "outputs": [],
   "source": [
    "## q Distribution"
   ]
  },
  {
   "cell_type": "code",
   "execution_count": 363,
   "metadata": {},
   "outputs": [],
   "source": [
    "Norm = 23.285605868167888 # normalization constant of the distribution function computed numerically (you can find the\n",
    "                           # code at the end of this notebook)\n",
    "def pdf_q(q,Norm): \n",
    "    return Norm*(1-q**2)**(7/2)*q**2\n",
    "q_max = (2)**(1/2)/3  # abscissa where the distribution 'dist_func' has a maximum\n",
    "f_max = pdf_q(q_max,Norm)"
   ]
  },
  {
   "cell_type": "code",
   "execution_count": 364,
   "metadata": {},
   "outputs": [
    {
     "data": {
      "image/png": "[encoded data removed]",
      "text/plain": [
       "<Figure size 432x288 with 1 Axes>"
      ]
     },
     "metadata": {
      "needs_background": "light"
     },
     "output_type": "display_data"
    }
   ],
   "source": [
    "# Histogram Section #\n",
    "\n",
    "counts, edges = np.histogram(q,bins='auto')\n",
    "area = sum(np.diff(edges)*counts)\n",
    "error = np.sqrt(counts) # Poissonian errors\n",
    "bincenters = 0.5*(edges[1:]+edges[:-1])\n",
    "\n",
    "normalized_counts_q, Bin_edges_q, hist_q = plt.hist(q,bins='auto',range=None,density=True,color='c',edgecolor='black',label='empirical')\n",
    "\n",
    "error = error/area # the error bar must be rescaled since we normalized the histogram \n",
    "plt.errorbar(bincenters,normalized_counts_q,yerr=error,fmt='none',label='error',color='k')\n",
    "\n",
    "## generation of the arrays containing some pdf's points\n",
    "q_pdf = np.empty(1000)\n",
    "ascissa = np.linspace(0,1,1000)\n",
    "q_pdf = pdf_q(ascissa,Norm)        \n",
    "        \n",
    "plt.plot(ascissa,q_pdf,color='r',label='pdf(q)')\n",
    "plt.xlabel('q',fontsize=12)\n",
    "plt.ylabel('pdf(q)',fontsize=12)\n",
    "plt.title('q Distribution - t=0, n_part={:3.1e}'.format(Nparticles))\n",
    "plt.legend()\n",
    "plt.tight_layout()\n",
    "plt.savefig('q_histo_1000.jpg') "
   ]
  },
  {
   "cell_type": "code",
   "execution_count": 365,
   "metadata": {},
   "outputs": [],
   "source": [
    "###################################################################################################################"
   ]
  },
  {
   "cell_type": "code",
   "execution_count": 366,
   "metadata": {},
   "outputs": [],
   "source": [
    "## Section 3 - Instruction to compile the code from the 'treecode' from the terminal and hints to set the parameters ##"
   ]
  },
  {
   "cell_type": "code",
   "execution_count": 367,
   "metadata": {},
   "outputs": [],
   "source": [
    "# When you have runned 'Section 1', your system initial conditions will be saved in 'initial_conditions_file.txt';\n",
    "# than, before running the 'Plummer's Sphere Stability - Analysis code', you need to run from \n",
    "# the terminal the c++ executable file. You can write (for example):\n",
    "#\n",
    "#   ./treecode in=initial_conditions_file.txt out=output_data.txt dtime=0.0005 eps=0.03 theta=0.1 options=out-phi tstop=0.5 dtout=0.05 > system_description.txt\n",
    "#\n",
    "# All the parameters are expressed in internal units; it's useful to compute the dynamical time of the system:\n",
    "\n",
    "t_dynamical = r_scale/(M/r_scale)**(1/2)\n",
    "\n",
    "# Here you can find the description of some of the parameters passed through the terminal (see for more details\n",
    "# the documentation of the 'Barnes tree code' - http://www.ifa.hawaii.edu/faculty/barnes/treecode/treeguide.html):\n",
    "# \n",
    "# - dtime: it is the integration time step. Set it not too big and too small; for example choose dtime=t_dynamical/(10^a)\n",
    "#   It's convenient to use a timestep which has an exact representation as a floating-point number\n",
    "\n",
    "dtime = t_dynamical/(10**2)\n",
    "\n",
    "# - eps: it is the smoothing length used in the gravitational force calculation.\n",
    "#  Choose a value that is a fraction of the typical separation between particles: 10^(-b)*(Vol/Nparticles)**(1/3)\n",
    "#  Here we divided the sphere in shells, computed the particles' mean distance in each shell and selected the \n",
    "#  smallest one\n",
    "\n",
    "counts, bin_edges = np.histogram(radius, bins='auto')\n",
    "MeanSeparation = []\n",
    "for i in range(len(counts)):\n",
    "    if counts[i]!=0:\n",
    "        MeanSeparation.append( ((4/3*math.pi*(bin_edges[i+1]**3-bin_edges[i]**3))/counts[i])**(1/3))\n",
    "MinMeanSeparation = min(MeanSeparation)\n",
    "eps = MinMeanSeparation/10\n",
    "\n",
    "# - theta: it is the opening angle used to adjust the accuracy of the force calculation. \n",
    "#  Values less than unity produce more accurate forces, albeit at greater computational expense.\n",
    "\n",
    "theta = 0.1\n",
    "\n",
    "# - options=out-phi: it saves in the output_data.txt also the potential energy\n",
    "\n",
    "# - tstop: it is the time at which the N-Body integration terminates. Set it, for example, as tstop=2*t_dynamical\n",
    "\n",
    "tstop = 10*t_dynamical\n",
    "\n",
    "# - dtout: it is the time interval between output files. To insure that outputs are performed when expected, dtout\n",
    "# should be a multiple of dtime. The number of snapshots depends on 'dtout': the less its value is, the more number\n",
    "# of outputs you'll have. A greater number of snapshots will be useful during the analysis because you'll have\n",
    "# more information about the system but the computational cost of the analysis will be increased.\n",
    "\n",
    "dtout = dtime*3\n",
    "\n",
    "Nsnapshots = int(tstop/dtout)"
   ]
  },
  {
   "cell_type": "code",
   "execution_count": 368,
   "metadata": {},
   "outputs": [
    {
     "name": "stdout",
     "output_type": "stream",
     "text": [
      "\n",
      "dtime:  0.0031622776601683794\n",
      "\n",
      "Mean separation:  0.15321587953811203     eps:  0.015321587953811203\n",
      "\n",
      "theta:  0.1\n",
      "\n",
      "tstop:  3.1622776601683795\n",
      "\n",
      "dtout:  0.009486832980505138\n",
      "\n",
      "Nsnaphots:  333\n"
     ]
    }
   ],
   "source": [
    "print('\\ndtime: ',dtime)\n",
    "print('\\nMean separation: ',MinMeanSeparation,'    eps: ',eps)\n",
    "print('\\ntheta: ', theta)\n",
    "print('\\ntstop: ', tstop)\n",
    "print('\\ndtout: ', dtout)\n",
    "print('\\nNsnaphots: ', Nsnapshots)"
   ]
  },
  {
   "cell_type": "code",
   "execution_count": null,
   "metadata": {},
   "outputs": [],
   "source": []
  }
 ],
 "metadata": {
  "kernelspec": {
   "display_name": "Python 3",
   "language": "python",
   "name": "python3"
  },
  "language_info": {
   "codemirror_mode": {
    "name": "ipython",
    "version": 3
   },
   "file_extension": ".py",
   "mimetype": "text/x-python",
   "name": "python",
   "nbconvert_exporter": "python",
   "pygments_lexer": "ipython3",
   "version": "3.8.2"
  }
 },
 "nbformat": 4,
 "nbformat_minor": 4
}
